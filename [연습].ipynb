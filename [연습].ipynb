{
 "cells": [
  {
   "cell_type": "code",
   "execution_count": 1,
   "id": "e9723c3f-0060-4fc0-a2d5-4633bd9cdc5a",
   "metadata": {
    "collapsed": true,
    "jupyter": {
     "outputs_hidden": true,
     "source_hidden": true
    }
   },
   "outputs": [
    {
     "name": "stdout",
     "output_type": "stream",
     "text": [
      "Requirement already satisfied: requests in c:\\anaconda24\\lib\\site-packages (2.31.0)\n",
      "Requirement already satisfied: beautifulsoup4 in c:\\anaconda24\\lib\\site-packages (4.12.2)\n",
      "Requirement already satisfied: charset-normalizer<4,>=2 in c:\\anaconda24\\lib\\site-packages (from requests) (2.0.4)\n",
      "Requirement already satisfied: idna<4,>=2.5 in c:\\anaconda24\\lib\\site-packages (from requests) (3.4)\n",
      "Requirement already satisfied: urllib3<3,>=1.21.1 in c:\\anaconda24\\lib\\site-packages (from requests) (2.0.7)\n",
      "Requirement already satisfied: certifi>=2017.4.17 in c:\\anaconda24\\lib\\site-packages (from requests) (2024.2.2)\n",
      "Requirement already satisfied: soupsieve>1.2 in c:\\anaconda24\\lib\\site-packages (from beautifulsoup4) (2.5)\n"
     ]
    }
   ],
   "source": [
    "! pip install requests beautifulsoup4"
   ]
  },
  {
   "cell_type": "code",
   "execution_count": 4,
   "id": "6c2c1282-2ae8-4f89-9b12-dca4b7f11d16",
   "metadata": {
    "collapsed": true,
    "jupyter": {
     "outputs_hidden": true,
     "source_hidden": true
    }
   },
   "outputs": [
    {
     "name": "stdout",
     "output_type": "stream",
     "text": [
      "Collecting selenium\n",
      "  Downloading selenium-4.21.0-py3-none-any.whl.metadata (6.9 kB)\n",
      "Requirement already satisfied: urllib3<3,>=1.26 in c:\\anaconda24\\lib\\site-packages (from urllib3[socks]<3,>=1.26->selenium) (2.0.7)\n",
      "Collecting trio~=0.17 (from selenium)\n",
      "  Downloading trio-0.25.1-py3-none-any.whl.metadata (8.7 kB)\n",
      "Collecting trio-websocket~=0.9 (from selenium)\n",
      "  Downloading trio_websocket-0.11.1-py3-none-any.whl.metadata (4.7 kB)\n",
      "Requirement already satisfied: certifi>=2021.10.8 in c:\\anaconda24\\lib\\site-packages (from selenium) (2024.2.2)\n",
      "Requirement already satisfied: typing_extensions>=4.9.0 in c:\\anaconda24\\lib\\site-packages (from selenium) (4.9.0)\n",
      "Collecting attrs>=23.2.0 (from trio~=0.17->selenium)\n",
      "  Downloading attrs-23.2.0-py3-none-any.whl.metadata (9.5 kB)\n",
      "Requirement already satisfied: sortedcontainers in c:\\anaconda24\\lib\\site-packages (from trio~=0.17->selenium) (2.4.0)\n",
      "Requirement already satisfied: idna in c:\\anaconda24\\lib\\site-packages (from trio~=0.17->selenium) (3.4)\n",
      "Collecting outcome (from trio~=0.17->selenium)\n",
      "  Downloading outcome-1.3.0.post0-py2.py3-none-any.whl.metadata (2.6 kB)\n",
      "Requirement already satisfied: sniffio>=1.3.0 in c:\\anaconda24\\lib\\site-packages (from trio~=0.17->selenium) (1.3.0)\n",
      "Requirement already satisfied: cffi>=1.14 in c:\\anaconda24\\lib\\site-packages (from trio~=0.17->selenium) (1.16.0)\n",
      "Collecting wsproto>=0.14 (from trio-websocket~=0.9->selenium)\n",
      "  Downloading wsproto-1.2.0-py3-none-any.whl.metadata (5.6 kB)\n",
      "Requirement already satisfied: pysocks!=1.5.7,<2.0,>=1.5.6 in c:\\anaconda24\\lib\\site-packages (from urllib3[socks]<3,>=1.26->selenium) (1.7.1)\n",
      "Requirement already satisfied: pycparser in c:\\anaconda24\\lib\\site-packages (from cffi>=1.14->trio~=0.17->selenium) (2.21)\n",
      "Collecting h11<1,>=0.9.0 (from wsproto>=0.14->trio-websocket~=0.9->selenium)\n",
      "  Downloading h11-0.14.0-py3-none-any.whl.metadata (8.2 kB)\n",
      "Downloading selenium-4.21.0-py3-none-any.whl (9.5 MB)\n",
      "   ---------------------------------------- 0.0/9.5 MB ? eta -:--:--\n",
      "   -- ------------------------------------- 0.5/9.5 MB 10.5 MB/s eta 0:00:01\n",
      "   ---- ----------------------------------- 1.0/9.5 MB 12.6 MB/s eta 0:00:01\n",
      "   ------ --------------------------------- 1.5/9.5 MB 11.6 MB/s eta 0:00:01\n",
      "   -------- ------------------------------- 1.9/9.5 MB 12.3 MB/s eta 0:00:01\n",
      "   ---------- ----------------------------- 2.4/9.5 MB 11.9 MB/s eta 0:00:01\n",
      "   ------------ --------------------------- 2.9/9.5 MB 11.5 MB/s eta 0:00:01\n",
      "   -------------- ------------------------- 3.4/9.5 MB 12.0 MB/s eta 0:00:01\n",
      "   ---------------- ----------------------- 3.8/9.5 MB 11.7 MB/s eta 0:00:01\n",
      "   ------------------ --------------------- 4.3/9.5 MB 12.0 MB/s eta 0:00:01\n",
      "   -------------------- ------------------- 4.8/9.5 MB 11.9 MB/s eta 0:00:01\n",
      "   ---------------------- ----------------- 5.3/9.5 MB 12.1 MB/s eta 0:00:01\n",
      "   ------------------------ --------------- 5.8/9.5 MB 12.0 MB/s eta 0:00:01\n",
      "   -------------------------- ------------- 6.3/9.5 MB 11.8 MB/s eta 0:00:01\n",
      "   ---------------------------- ----------- 6.6/9.5 MB 11.7 MB/s eta 0:00:01\n",
      "   ------------------------------ --------- 7.1/9.5 MB 11.7 MB/s eta 0:00:01\n",
      "   -------------------------------- ------- 7.6/9.5 MB 11.6 MB/s eta 0:00:01\n",
      "   ---------------------------------- ----- 8.1/9.5 MB 11.7 MB/s eta 0:00:01\n",
      "   ----------------------------------- ---- 8.4/9.5 MB 11.4 MB/s eta 0:00:01\n",
      "   ----------------------------------- ---- 8.4/9.5 MB 11.4 MB/s eta 0:00:01\n",
      "   ----------------------------------- ---- 8.4/9.5 MB 11.4 MB/s eta 0:00:01\n",
      "   ----------------------------------- ---- 8.4/9.5 MB 11.4 MB/s eta 0:00:01\n",
      "   ----------------------------------- ---- 8.4/9.5 MB 11.4 MB/s eta 0:00:01\n",
      "   ----------------------------------- ---- 8.4/9.5 MB 11.4 MB/s eta 0:00:01\n",
      "   ------------------------------------ --- 8.6/9.5 MB 8.7 MB/s eta 0:00:01\n",
      "   -------------------------------------- - 9.1/9.5 MB 8.8 MB/s eta 0:00:01\n",
      "   ---------------------------------------  9.5/9.5 MB 8.9 MB/s eta 0:00:01\n",
      "   ---------------------------------------- 9.5/9.5 MB 8.5 MB/s eta 0:00:00\n",
      "Downloading trio-0.25.1-py3-none-any.whl (467 kB)\n",
      "   ---------------------------------------- 0.0/467.7 kB ? eta -:--:--\n",
      "   ---------------------------------------  460.8/467.7 kB 9.6 MB/s eta 0:00:01\n",
      "   ---------------------------------------- 467.7/467.7 kB 7.3 MB/s eta 0:00:00\n",
      "Downloading trio_websocket-0.11.1-py3-none-any.whl (17 kB)\n",
      "Downloading attrs-23.2.0-py3-none-any.whl (60 kB)\n",
      "   ---------------------------------------- 0.0/60.8 kB ? eta -:--:--\n",
      "   ---------------------------------------- 60.8/60.8 kB 3.4 MB/s eta 0:00:00\n",
      "Downloading wsproto-1.2.0-py3-none-any.whl (24 kB)\n",
      "Downloading outcome-1.3.0.post0-py2.py3-none-any.whl (10 kB)\n",
      "Downloading h11-0.14.0-py3-none-any.whl (58 kB)\n",
      "   ---------------------------------------- 0.0/58.3 kB ? eta -:--:--\n",
      "   ---------------------------------------- 58.3/58.3 kB ? eta 0:00:00\n",
      "Installing collected packages: h11, attrs, wsproto, outcome, trio, trio-websocket, selenium\n",
      "  Attempting uninstall: attrs\n",
      "    Found existing installation: attrs 23.1.0\n",
      "    Uninstalling attrs-23.1.0:\n",
      "      Successfully uninstalled attrs-23.1.0\n",
      "Successfully installed attrs-23.2.0 h11-0.14.0 outcome-1.3.0.post0 selenium-4.21.0 trio-0.25.1 trio-websocket-0.11.1 wsproto-1.2.0\n"
     ]
    }
   ],
   "source": [
    "!pip install selenium"
   ]
  },
  {
   "cell_type": "code",
   "execution_count": 5,
   "id": "5121f7fd-5a2d-472a-98e9-57cbd8da1d69",
   "metadata": {},
   "outputs": [],
   "source": [
    "from selenium import webdriver\n",
    "from selenium.webdriver.chrome.service import Service\n",
    "\n",
    "# 크롬 드라이버 경로 설정 (예: C 드라이브의 chromedriver.exe 위치)\n",
    "driver_path = \"C:/MyJupyter/Project/Review/chromedriver-win64/chromedriver.exe\"\n",
    "service = Service(driver_path)\n",
    "browser = webdriver.Chrome(service=service)\n",
    "\n",
    "# URL 접속\n",
    "url = \"https://www.google.com/\"\n",
    "browser.get(url)  # 접속\n",
    "\n"
   ]
  }
 ],
 "metadata": {
  "kernelspec": {
   "display_name": "Python 3 (ipykernel)",
   "language": "python",
   "name": "python3"
  },
  "language_info": {
   "codemirror_mode": {
    "name": "ipython",
    "version": 3
   },
   "file_extension": ".py",
   "mimetype": "text/x-python",
   "name": "python",
   "nbconvert_exporter": "python",
   "pygments_lexer": "ipython3",
   "version": "3.11.7"
  }
 },
 "nbformat": 4,
 "nbformat_minor": 5
}
