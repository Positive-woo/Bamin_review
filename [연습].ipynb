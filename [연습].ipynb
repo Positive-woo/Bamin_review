{
 "cells": [
  {
   "cell_type": "code",
   "execution_count": 2,
   "id": "e9723c3f-0060-4fc0-a2d5-4633bd9cdc5a",
   "metadata": {
    "collapsed": true,
    "jupyter": {
     "outputs_hidden": true
    }
   },
   "outputs": [
    {
     "name": "stdout",
     "output_type": "stream",
     "text": [
      "Requirement already satisfied: requests in c:\\python\\lib\\site-packages (2.31.0)\n",
      "Requirement already satisfied: beautifulsoup4 in c:\\python\\lib\\site-packages (4.12.2)\n",
      "Requirement already satisfied: charset-normalizer<4,>=2 in c:\\python\\lib\\site-packages (from requests) (2.0.4)\n",
      "Requirement already satisfied: idna<4,>=2.5 in c:\\python\\lib\\site-packages (from requests) (3.4)\n",
      "Requirement already satisfied: urllib3<3,>=1.21.1 in c:\\python\\lib\\site-packages (from requests) (2.0.7)\n",
      "Requirement already satisfied: certifi>=2017.4.17 in c:\\python\\lib\\site-packages (from requests) (2024.2.2)\n",
      "Requirement already satisfied: soupsieve>1.2 in c:\\python\\lib\\site-packages (from beautifulsoup4) (2.5)\n"
     ]
    }
   ],
   "source": [
    "! pip install requests beautifulsoup4"
   ]
  },
  {
   "cell_type": "code",
   "execution_count": 3,
   "id": "6c2c1282-2ae8-4f89-9b12-dca4b7f11d16",
   "metadata": {
    "collapsed": true,
    "jupyter": {
     "outputs_hidden": true
    },
    "scrolled": true
   },
   "outputs": [
    {
     "name": "stdout",
     "output_type": "stream",
     "text": [
      "Collecting selenium\n",
      "  Downloading selenium-4.21.0-py3-none-any.whl.metadata (6.9 kB)\n",
      "Requirement already satisfied: urllib3<3,>=1.26 in c:\\python\\lib\\site-packages (from urllib3[socks]<3,>=1.26->selenium) (2.0.7)\n",
      "Collecting trio~=0.17 (from selenium)\n",
      "  Downloading trio-0.25.1-py3-none-any.whl.metadata (8.7 kB)\n",
      "Collecting trio-websocket~=0.9 (from selenium)\n",
      "  Downloading trio_websocket-0.11.1-py3-none-any.whl.metadata (4.7 kB)\n",
      "Requirement already satisfied: certifi>=2021.10.8 in c:\\python\\lib\\site-packages (from selenium) (2024.2.2)\n",
      "Requirement already satisfied: typing_extensions>=4.9.0 in c:\\python\\lib\\site-packages (from selenium) (4.9.0)\n",
      "Collecting attrs>=23.2.0 (from trio~=0.17->selenium)\n",
      "  Downloading attrs-23.2.0-py3-none-any.whl.metadata (9.5 kB)\n",
      "Requirement already satisfied: sortedcontainers in c:\\python\\lib\\site-packages (from trio~=0.17->selenium) (2.4.0)\n",
      "Requirement already satisfied: idna in c:\\python\\lib\\site-packages (from trio~=0.17->selenium) (3.4)\n",
      "Collecting outcome (from trio~=0.17->selenium)\n",
      "  Downloading outcome-1.3.0.post0-py2.py3-none-any.whl.metadata (2.6 kB)\n",
      "Requirement already satisfied: sniffio>=1.3.0 in c:\\python\\lib\\site-packages (from trio~=0.17->selenium) (1.3.0)\n",
      "Requirement already satisfied: cffi>=1.14 in c:\\python\\lib\\site-packages (from trio~=0.17->selenium) (1.16.0)\n",
      "Collecting wsproto>=0.14 (from trio-websocket~=0.9->selenium)\n",
      "  Downloading wsproto-1.2.0-py3-none-any.whl.metadata (5.6 kB)\n",
      "Requirement already satisfied: pysocks!=1.5.7,<2.0,>=1.5.6 in c:\\python\\lib\\site-packages (from urllib3[socks]<3,>=1.26->selenium) (1.7.1)\n",
      "Requirement already satisfied: pycparser in c:\\python\\lib\\site-packages (from cffi>=1.14->trio~=0.17->selenium) (2.21)\n",
      "Collecting h11<1,>=0.9.0 (from wsproto>=0.14->trio-websocket~=0.9->selenium)\n",
      "  Downloading h11-0.14.0-py3-none-any.whl.metadata (8.2 kB)\n",
      "Downloading selenium-4.21.0-py3-none-any.whl (9.5 MB)\n",
      "   ---------------------------------------- 0.0/9.5 MB ? eta -:--:--\n",
      "   - -------------------------------------- 0.4/9.5 MB 11.6 MB/s eta 0:00:01\n",
      "   --- ------------------------------------ 0.9/9.5 MB 11.4 MB/s eta 0:00:01\n",
      "   ------ --------------------------------- 1.4/9.5 MB 11.5 MB/s eta 0:00:01\n",
      "   -------- ------------------------------- 2.0/9.5 MB 11.5 MB/s eta 0:00:01\n",
      "   ---------- ----------------------------- 2.5/9.5 MB 11.5 MB/s eta 0:00:01\n",
      "   ------------- -------------------------- 3.1/9.5 MB 11.6 MB/s eta 0:00:01\n",
      "   --------------- ------------------------ 3.6/9.5 MB 11.6 MB/s eta 0:00:01\n",
      "   ----------------- ---------------------- 4.1/9.5 MB 11.5 MB/s eta 0:00:01\n",
      "   ------------------- -------------------- 4.7/9.5 MB 11.6 MB/s eta 0:00:01\n",
      "   ---------------------- ----------------- 5.2/9.5 MB 11.5 MB/s eta 0:00:01\n",
      "   ------------------------ --------------- 5.8/9.5 MB 11.6 MB/s eta 0:00:01\n",
      "   -------------------------- ------------- 6.3/9.5 MB 11.5 MB/s eta 0:00:01\n",
      "   --------------------------- ------------ 6.6/9.5 MB 11.0 MB/s eta 0:00:01\n",
      "   ------------------------------ --------- 7.1/9.5 MB 11.1 MB/s eta 0:00:01\n",
      "   -------------------------------- ------- 7.7/9.5 MB 11.1 MB/s eta 0:00:01\n",
      "   ---------------------------------- ----- 8.2/9.5 MB 11.1 MB/s eta 0:00:01\n",
      "   ----------------------------------- ---- 8.3/9.5 MB 11.3 MB/s eta 0:00:01\n",
      "   ----------------------------------- ---- 8.3/9.5 MB 11.3 MB/s eta 0:00:01\n",
      "   ----------------------------------- ---- 8.3/9.5 MB 11.3 MB/s eta 0:00:01\n",
      "   ----------------------------------- ---- 8.3/9.5 MB 11.3 MB/s eta 0:00:01\n",
      "   ----------------------------------- ---- 8.3/9.5 MB 11.3 MB/s eta 0:00:01\n",
      "   ----------------------------------- ---- 8.3/9.5 MB 11.3 MB/s eta 0:00:01\n",
      "   ----------------------------------- ---- 8.3/9.5 MB 11.3 MB/s eta 0:00:01\n",
      "   ----------------------------------- ---- 8.3/9.5 MB 11.3 MB/s eta 0:00:01\n",
      "   ----------------------------------- ---- 8.3/9.5 MB 11.3 MB/s eta 0:00:01\n",
      "   ----------------------------------- ---- 8.3/9.5 MB 11.3 MB/s eta 0:00:01\n",
      "   ----------------------------------- ---- 8.3/9.5 MB 11.3 MB/s eta 0:00:01\n",
      "   ----------------------------------- ---- 8.3/9.5 MB 11.3 MB/s eta 0:00:01\n",
      "   ----------------------------------- ---- 8.3/9.5 MB 11.3 MB/s eta 0:00:01\n",
      "   ----------------------------------- ---- 8.3/9.5 MB 11.3 MB/s eta 0:00:01\n",
      "   ------------------------------------ --- 8.5/9.5 MB 5.9 MB/s eta 0:00:01\n",
      "   -------------------------------------- - 9.1/9.5 MB 6.1 MB/s eta 0:00:01\n",
      "   ---------------------------------------- 9.5/9.5 MB 6.2 MB/s eta 0:00:00\n",
      "Downloading trio-0.25.1-py3-none-any.whl (467 kB)\n",
      "   ---------------------------------------- 0.0/467.7 kB ? eta -:--:--\n",
      "   ---------------------------------------  460.8/467.7 kB 9.6 MB/s eta 0:00:01\n",
      "   ---------------------------------------- 467.7/467.7 kB 9.7 MB/s eta 0:00:00\n",
      "Downloading trio_websocket-0.11.1-py3-none-any.whl (17 kB)\n",
      "Downloading attrs-23.2.0-py3-none-any.whl (60 kB)\n",
      "   ---------------------------------------- 0.0/60.8 kB ? eta -:--:--\n",
      "   ---------------------------------------- 60.8/60.8 kB 3.4 MB/s eta 0:00:00\n",
      "Downloading wsproto-1.2.0-py3-none-any.whl (24 kB)\n",
      "Downloading outcome-1.3.0.post0-py2.py3-none-any.whl (10 kB)\n",
      "Downloading h11-0.14.0-py3-none-any.whl (58 kB)\n",
      "   ---------------------------------------- 0.0/58.3 kB ? eta -:--:--\n",
      "   ---------------------------------------- 58.3/58.3 kB ? eta 0:00:00\n",
      "Installing collected packages: h11, attrs, wsproto, outcome, trio, trio-websocket, selenium\n",
      "  Attempting uninstall: attrs\n",
      "    Found existing installation: attrs 23.1.0\n",
      "    Uninstalling attrs-23.1.0:\n",
      "      Successfully uninstalled attrs-23.1.0\n",
      "Successfully installed attrs-23.2.0 h11-0.14.0 outcome-1.3.0.post0 selenium-4.21.0 trio-0.25.1 trio-websocket-0.11.1 wsproto-1.2.0\n"
     ]
    }
   ],
   "source": [
    "!pip install selenium"
   ]
  },
  {
   "cell_type": "markdown",
   "id": "e446f52e-032c-40be-aa63-9f9422b3d39a",
   "metadata": {},
   "source": [
    "## Selenium"
   ]
  },
  {
   "cell_type": "code",
   "execution_count": 15,
   "id": "17fded65-a6ae-4740-ba71-c52331b694ba",
   "metadata": {},
   "outputs": [],
   "source": [
    "from selenium import webdriver\n",
    "from selenium.webdriver.chrome.service import Service\n",
    "from selenium.webdriver.common.keys import Keys\n",
    "from selenium.webdriver.common.by import By\n",
    "from selenium.webdriver.support.ui import WebDriverWait\n",
    "from selenium.webdriver.support import expected_conditions as EC\n",
    "from selenium.webdriver.common.action_chains import ActionChains"
   ]
  },
  {
   "cell_type": "markdown",
   "id": "e23ca9fd-b25a-4ca3-bec7-2403a58d0bfb",
   "metadata": {},
   "source": [
    "## ETC import"
   ]
  },
  {
   "cell_type": "code",
   "execution_count": 6,
   "id": "1f095ea3-10b6-4111-9431-209dc16eef73",
   "metadata": {},
   "outputs": [],
   "source": [
    "import time"
   ]
  },
  {
   "cell_type": "markdown",
   "id": "51b7e3e9-4a74-4333-81c3-5980d81abde2",
   "metadata": {},
   "source": [
    "## Personal inforamtion"
   ]
  },
  {
   "cell_type": "code",
   "execution_count": 23,
   "id": "64fbcadc-0b0d-4559-b60a-24c55acb876c",
   "metadata": {},
   "outputs": [],
   "source": [
    "id = 'kjs604500'\n",
    "pw = '1212kjs!'"
   ]
  },
  {
   "cell_type": "markdown",
   "id": "935163d9-2258-41bf-bbfc-80883febb094",
   "metadata": {},
   "source": [
    "## Main Code"
   ]
  },
  {
   "cell_type": "code",
   "execution_count": 60,
   "id": "5121f7fd-5a2d-472a-98e9-57cbd8da1d69",
   "metadata": {
    "editable": true,
    "slideshow": {
     "slide_type": ""
    },
    "tags": []
   },
   "outputs": [
    {
     "name": "stdout",
     "output_type": "stream",
     "text": [
      "광고 팝업이 감지되었습니다.\n",
      "광고 팝업을 닫았습니다.\n",
      "리뷰로 입장했습니다.\n"
     ]
    }
   ],
   "source": [
    "# 크롬 드라이버 경로 설정 (예: C 드라이브의 chromedriver.exe 위치)\n",
    "driver_path = \"C:/MyJupyter/Project/Review/chromedriver-win64/chromedriver.exe\"\n",
    "driver = webdriver.Chrome()\n",
    "\n",
    "# URL 접속\n",
    "url = \"https://self.baemin.com/bridge\"\n",
    "driver.get(url)  # 접속\n",
    "#driver.maximize_window() #최대화\n",
    "action = ActionChains(driver)\n",
    "\n",
    "#로그인 화면 접속\n",
    "try:\n",
    "    # 요소가 나타날 때까지 최대 10초 대기\n",
    "    # 로그인 창 입장\n",
    "    login_button_1 = WebDriverWait(driver, 10).until(\n",
    "        EC.presence_of_element_located((By.CSS_SELECTOR, '.button.small.self-ds'))\n",
    "    )\n",
    "    login_button_1.click()\n",
    "    #ID 칸 클릭 후 id 넣기\n",
    "    ID_blank = WebDriverWait(driver, 10).until(\n",
    "        EC.presence_of_element_located((By.CSS_SELECTOR, 'input[name=\"id\"]'))\n",
    "    )\n",
    "    ID_blank.click()\n",
    "    action.click(ID_blank).send_keys(id).perform()\n",
    "    #PW 칸 클릭 후 PW 넣기\n",
    "    PW_blank = WebDriverWait(driver, 10).until(\n",
    "        EC.presence_of_element_located((By.CSS_SELECTOR, 'input[name=\"password\"]'))\n",
    "    )\n",
    "    PW_blank.click()\n",
    "    action.click(PW_blank).send_keys(pw).perform()\n",
    "    #로그인 클릭\n",
    "    login_button_2 = WebDriverWait(driver, 10).until(\n",
    "        EC.presence_of_element_located((By.CSS_SELECTOR, 'button.Button__StyledButton-sc-1cxc4dz-0.hlLPsc'))\n",
    "    )\n",
    "    login_button_2.click()\n",
    "except Exception as e:\n",
    "    print(f\"1단계 요소를 찾을 수 없습니다: {e}\")\n",
    "\n",
    "try:\n",
    "    ad_popup = WebDriverWait(driver, 10).until(\n",
    "        EC.presence_of_element_located((By.CSS_SELECTOR, '.bsds-modal-header-button-wrapper'))\n",
    "    )\n",
    "    if ad_popup:\n",
    "        print(\"광고 팝업이 감지되었습니다.\")\n",
    "        # 닫기 버튼 클릭 (필요한 버튼의 정확한 CSS 셀렉터 사용)\n",
    "        close_button = WebDriverWait(driver, 5).until(\n",
    "            EC.element_to_be_clickable((By.CSS_SELECTOR, '.bsds-icon-button.bsds-modal-header-button'))\n",
    "        )\n",
    "        close_button.click()\n",
    "        print(\"광고 팝업을 닫았습니다.\")\n",
    "except Exception as e:\n",
    "    print(\"광고 팝업이 없습니다: \", e)\n",
    "\n",
    "# try:\n",
    "#     review_button = WebDriverWait(driver, 10).until(\n",
    "#         EC.presence_of_element_located((By.CSS_SELECTOR, '.MenuItem-module__rnfT'))\n",
    "#     )\n",
    "#     review_button.click()\n",
    "#     print(\"리뷰로 입장했습니다.\")\n",
    "# except Exception as e:\n",
    "#     print(f\"리뷰를 찾을 수 없습니다: {e}\")"
   ]
  }
 ],
 "metadata": {
  "kernelspec": {
   "display_name": "Python 3 (ipykernel)",
   "language": "python",
   "name": "python3"
  },
  "language_info": {
   "codemirror_mode": {
    "name": "ipython",
    "version": 3
   },
   "file_extension": ".py",
   "mimetype": "text/x-python",
   "name": "python",
   "nbconvert_exporter": "python",
   "pygments_lexer": "ipython3",
   "version": "3.11.7"
  }
 },
 "nbformat": 4,
 "nbformat_minor": 5
}
